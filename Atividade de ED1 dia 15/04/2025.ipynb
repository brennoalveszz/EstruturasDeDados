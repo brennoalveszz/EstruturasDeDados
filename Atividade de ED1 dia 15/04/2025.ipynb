{
  "nbformat": 4,
  "nbformat_minor": 0,
  "metadata": {
    "colab": {
      "provenance": [],
      "include_colab_link": true
    },
    "kernelspec": {
      "name": "python3",
      "display_name": "Python 3"
    },
    "language_info": {
      "name": "python"
    }
  },
  "cells": [
    {
      "cell_type": "markdown",
      "metadata": {
        "id": "view-in-github",
        "colab_type": "text"
      },
      "source": [
        "<a href=\"https://colab.research.google.com/github/brennoalveszz/EstruturasDeDados/blob/main/Atividade%20de%20ED1%20dia%2015/04/2025.ipynb\" target=\"_parent\"><img src=\"https://colab.research.google.com/assets/colab-badge.svg\" alt=\"Open In Colab\"/></a>"
      ]
    },
    {
      "cell_type": "markdown",
      "source": [
        "**Tema 1: A Biblioteca Mágica (Listas)**\n",
        "\n",
        "Em uma biblioteca mágica, os livros não seguem uma ordem alfabética tradicional. Em vez disso, são organizados de acordo com a ordem em que foram devolvidos. A bibliotecária precisa de sua ajuda para gerenciar o catálogo de livros.\n",
        "\n",
        "**Tarefas:**\n",
        "\n",
        "1.  **Criar o Catálogo:** Inicialize uma lista vazia chamada `catalogo_magico`.\n",
        "2.  **Adicionar Livros:** Implemente uma função `adicionar_livro(catalogo, livro)` que adicione o `livro` ao final da lista `catalogo`. Adicione os seguintes livros ao catálogo: \"O Feitiço da Lua Crescente\", \"A Jornada do Unicórnio Perdido\", \"Segredos da Floresta Encantada\".\n",
        "3.  **Visualizar o Catálogo:** Imprima o `catalogo_magico` para verificar a ordem dos livros.\n",
        "4.  **Buscar Livro por Posição:** Implemente uma função `buscar_livro(catalogo, indice)` que retorne o livro presente no `indice` fornecido. Busque o livro na posição 1 (lembre-se que a indexação começa em 0) e imprima o resultado.\n",
        "5.  **Remover Livro:** Um leitor devolveu \"A Jornada do Unicórnio Perdido\" e ele deve ser removido do catálogo. Utilize o método apropriado para remover o livro da lista.\n",
        "6.  **Visualizar Catálogo Atualizado:** Imprima novamente o `catalogo_magico` para ver o catálogo após a remoção.\n",
        "7.  **Verificar Presença:** Implemente uma função `verificar_livro(catalogo, livro)` que retorne `True` se o `livro` estiver no `catalogo` e `False` caso contrário. Verifique se o livro \"Segredos da Floresta Encantada\" ainda está no catálogo."
      ],
      "metadata": {
        "id": "Ejh7i4W6pCZ8"
      }
    },
    {
      "cell_type": "code",
      "execution_count": null,
      "metadata": {
        "colab": {
          "base_uri": "https://localhost:8080/"
        },
        "id": "x3tlOYnNo956",
        "outputId": "beb83e4e-119f-4b06-e997-2cbafb4919c1"
      },
      "outputs": [
        {
          "output_type": "stream",
          "name": "stdout",
          "text": [
            "Catalogo: ['O Feitiço da Lua Crescente', 'A Jornada do Unicórnio Perdido', 'Segredos da Floresta Encantada']\n",
            "\n",
            "Livro encontrado: O Feitiço da Lua Crescente\n",
            "\n",
            "Livro não encontrado no catálogo.\n",
            "\n",
            "Livro: O Feitiço da Lua Crescente removido com sucesso\n",
            "\n",
            "Livro |Segredos da Floresta Encantada| no catalogo = True\n",
            "\n",
            "Livro |Harry poter pedra filosofal| no catalogo = False\n",
            "\n",
            "Livro |A Jornada do Unicórnio Perdido| no catalogo = True\n",
            "\n",
            "Catalogo: ['A Jornada do Unicórnio Perdido', 'Segredos da Floresta Encantada']\n"
          ]
        }
      ],
      "source": [
        "class Catalogo_magico():\n",
        "\n",
        "  def __init__(self): #Inicializando o vetor catalogo\n",
        "    self.catalogo_magico = []\n",
        "\n",
        "  def adicionar_livro(self, livro: str): #Criando a função adicionar livro onde o parametro livro sera adicionado no fim da lista ja inicializada: (self.catalogo_magico)\n",
        "    self.catalogo_magico.append(livro)\n",
        "\n",
        "  def buscar_livro(self, indice): #Criando função de buscar o livro na lista onde se recebe o parametro do indice que se quer verificar\n",
        "    try: #Tentando fazer a logica da função\n",
        "        livro_encontrado = self.catalogo_magico[indice] #Guardando o valor do indice dado pelo usuario\n",
        "        return f\"Livro encontrado: {livro_encontrado}\" #Retornando para visualização\n",
        "\n",
        "    except IndexError: #Se a logica não funcionar e ocasionar nesse erro:\n",
        "        return \"Erro: índice fora do alcance do catálogo.\" #Retorne falando que é um erro de um indice que não esta na range da lista\n",
        "\n",
        "  def remover_livro(self, livro_adevol: str): #Função para remover o livro\n",
        "\n",
        "    if livro_adevol in self.catalogo_magico: #Se o livro passado pelo usuario estiver na lista:\n",
        "        self.catalogo_magico.remove(livro_adevol) #Remove ele da lista\n",
        "        print(f\"Livro: {livro_adevol} removido com sucesso\\n\") #Retorna para visualização\n",
        "\n",
        "    else: #Senão:\n",
        "        print(\"Livro não encontrado no catálogo.\\n\") #Não faz a logica e retorna dizendo que o livro não esta na lista\n",
        "\n",
        "  def verificar_presenca(self, livro_checar: str): #Verificando se o livro se encontra na lista\n",
        "\n",
        "    if livro_checar in self.catalogo_magico: #Se estiver\n",
        "      print(f\"Livro |{livro_checar}| no catalogo = {True}\\n\") #Retorna falando true\n",
        "    else: #Se não\n",
        "      print(f\"Livro |{livro_checar}| no catalogo = {False}\\n\") #Retorna falando false\n",
        "\n",
        "  def __str__(self) -> str: #Definindo o retorno como string do objeto catalogo_magico\n",
        "     return f\"Catalogo: {self.catalogo_magico}\"\n",
        "\n",
        "#testando o codigo:\n",
        "\n",
        "catalogo_magico = Catalogo_magico() #Criando objeto\n",
        "\n",
        "#Adicinando livros a lista\n",
        "catalogo_magico.adicionar_livro(\"O Feitiço da Lua Crescente\")\n",
        "catalogo_magico.adicionar_livro(\"A Jornada do Unicórnio Perdido\")\n",
        "catalogo_magico.adicionar_livro(\"Segredos da Floresta Encantada\")\n",
        "\n",
        "print(f\"{catalogo_magico}\\n\") #Exibindo a lista\n",
        "\n",
        "print(f\"{catalogo_magico.buscar_livro(0)}\\n\") #Buscando o livro no indice 0\n",
        "\n",
        "catalogo_magico.remover_livro(\"Harry poter pedra filosofal\") #Tentando remover o elemento z se for existente\n",
        "catalogo_magico.remover_livro(\"O Feitiço da Lua Crescente\") #Tentando remover o elemento \"O Feitiço da Lua Crescente\" se for existente\n",
        "\n",
        "#Verificando presença dos livros\n",
        "catalogo_magico.verificar_presenca(\"Segredos da Floresta Encantada\")\n",
        "catalogo_magico.verificar_presenca(\"Harry poter pedra filosofal\")\n",
        "catalogo_magico.verificar_presenca(\"A Jornada do Unicórnio Perdido\")\n",
        "\n",
        "print(catalogo_magico)"
      ]
    },
    {
      "cell_type": "markdown",
      "source": [
        "\n",
        "\n",
        "---\n",
        "\n",
        "\n",
        "**Tema 2: A Fila de Atendimento dos Gnomos Artesãos (Filas)**\n",
        "\n",
        "Em uma oficina de gnomos artesãos, os pedidos de ferramentas mágicas são processados na ordem em que chegam. Ajude o mestre gnome a gerenciar a fila de pedidos.\n",
        "\n",
        "**Tarefas:**\n",
        "\n",
        "1.  **Criar a Fila:** Inicialize uma fila vazia chamada `fila_de_pedidos`. Utilize a estrutura `deque` do módulo `collections`.\n",
        "2.  **Adicionar Pedidos:** Implemente uma função `adicionar_pedido(fila, pedido)` que adicione o `pedido` ao final da `fila`. Adicione os seguintes pedidos: \"Martelo Encantado\", \"Pinça Teleportadora\", \"Chave de Fenda Sônica\".\n",
        "3.  **Visualizar a Fila:** Imprima a `fila_de_pedidos` para verificar a ordem dos pedidos.\n",
        "4.  **Processar Pedido:** Implemente uma função `processar_pedido(fila)` que remova e retorne o primeiro pedido da `fila`. Processe o próximo pedido na fila e imprima qual pedido foi atendido.\n",
        "5.  **Verificar Fila Vazia:** Implemente uma função `fila_vazia(fila)` que retorne `True` se a `fila` estiver vazia e `False` caso contrário. Verifique se a fila ainda possui pedidos após o processamento.\n",
        "6.  **Visualizar Fila Restante:** Imprima a `fila_de_pedidos` novamente para ver os pedidos restantes.\n",
        "7.  **Processar Pedidos Restantes:** Processe os pedidos restantes na fila, um por um, e imprima cada pedido atendido. Verifique se a fila está vazia ao final."
      ],
      "metadata": {
        "id": "-oRhSK0XpHbj"
      }
    },
    {
      "cell_type": "code",
      "source": [
        "from collections import deque #importando o modulo de fila deque\n",
        "\n",
        "class Fila_de_pedidos():\n",
        "\n",
        "  def __init__(self): #Inicializando uma lista do tipo fila deque\n",
        "    self.fila_de_pedidos = deque()\n",
        "\n",
        "  def adicionar_pedido(self, pedido: str): #Função para adicionar pedido\n",
        "    self.fila_de_pedidos.append(pedido)\n",
        "\n",
        "  def processar_pedido(self):#Função para processar os pedidos\n",
        "\n",
        "    if self.fila_de_pedidos: #Se tiver algo na lista:\n",
        "      print(f\"Processando pedido {self.fila_de_pedidos[0]}...\\n\")\n",
        "      proximo_processo = self.fila_de_pedidos.popleft() #Remove o valor do primeiro indice e retorna o valor que é guardado\n",
        "      print(f\"Feito: {proximo_processo}\\n\") #Exibindo o valor que foi efetuado\n",
        "\n",
        "    else: #Se não\n",
        "      print(\"Fila vazia\\n\") #Diga que esta vazia\n",
        "\n",
        "  def fila_vazia(self):# Função para checar se a fila esta vazia\n",
        "    if self.fila_de_pedidos: #Se tiver algo nela\n",
        "      print(\"Vazia = False\\n\") #Diga que vazia é false\n",
        "\n",
        "    else: #Se não\n",
        "      print(\"Vazia = True\\n\") #Diga que vazia é True\n",
        "\n",
        "  def __str__(self) -> str: #Definindo modo de exibição da fila como string\n",
        "    return f\"Fila: {self.fila_de_pedidos}\\n\"\n",
        "\n",
        "#Testando o codigo\n",
        "\n",
        "filapedidos = Fila_de_pedidos() #Criando objeto\n",
        "\n",
        "#Adicionando pedidos a fila\n",
        "filapedidos.adicionar_pedido(\"A\")\n",
        "filapedidos.adicionar_pedido(\"B\")\n",
        "filapedidos.adicionar_pedido(\"C\")\n",
        "\n",
        "print(filapedidos)#Exibindo fila inicial\n",
        "\n",
        "filapedidos.processar_pedido() #Processando o primeiro pedido\n",
        "\n",
        "print(filapedidos) #Exibindo apos seu primeiro processo\n",
        "\n",
        "filapedidos.fila_vazia() #Checando se a fila esta vazia\n",
        "\n",
        "#Processando o resto\n",
        "filapedidos.processar_pedido()\n",
        "filapedidos.processar_pedido()\n",
        "filapedidos.processar_pedido()"
      ],
      "metadata": {
        "colab": {
          "base_uri": "https://localhost:8080/"
        },
        "id": "-Cu_X4GFpJQi",
        "outputId": "f97cdf79-5509-4a86-8ef7-d73dabd4fa6e"
      },
      "execution_count": null,
      "outputs": [
        {
          "output_type": "stream",
          "name": "stdout",
          "text": [
            "Fila: deque(['A', 'B', 'C'])\n",
            "\n",
            "Processando pedido A...\n",
            "\n",
            "Feito: A\n",
            "\n",
            "Fila: deque(['B', 'C'])\n",
            "\n",
            "Vazia = False\n",
            "\n",
            "Processando pedido B...\n",
            "\n",
            "Feito: B\n",
            "\n",
            "Processando pedido C...\n",
            "\n",
            "Feito: C\n",
            "\n",
            "Fila vazia\n",
            "\n"
          ]
        }
      ]
    },
    {
      "cell_type": "markdown",
      "source": [
        "\n",
        "\n",
        "---\n",
        "\n",
        "**Tema 3: A Torre de Cristais dos Magos do Tempo (Pilhas)**\n",
        "\n",
        "Os magos do tempo armazenam seus poderosos cristais em uma torre, onde o último cristal adicionado é o primeiro a ser utilizado em seus rituais. Ajude a gerenciar a pilha de cristais.\n",
        "\n",
        "**Tarefas:**\n",
        "\n",
        "1.  **Criar a Pilha:** Inicialize uma lista vazia chamada `torre_de_cristais`.\n",
        "2.  **Empilhar Cristal:** Implemente uma função `empilhar_cristal(pilha, cristal)` que adicione o `cristal` ao topo da `pilha`. Adicione os seguintes cristais: \"Cristal do Passado\", \"Cristal do Presente\", \"Cristal do Futuro\".\n",
        "3.  **Visualizar a Pilha:** Imprima a `torre_de_cristais` para verificar a ordem dos cristais (o topo estará no final da lista).\n",
        "4.  **Desempilhar Cristal:** Implemente uma função `desempilhar_cristal(pilha)` que remova e retorne o cristal do topo da `pilha`. Utilize o cristal do topo para um ritual e imprima qual cristal foi utilizado.\n",
        "5.  **Verificar Pilha Vazia:** Implemente uma função `pilha_vazia(pilha)` que retorne `True` se a `pilha` estiver vazia e `False` caso contrário. Verifique se a pilha ainda possui cristais após a utilização.\n",
        "6.  **Visualizar Pilha Restante:** Imprima a `torre_de_cristais` novamente para ver os cristais restantes.\n",
        "7.  **Desempilhar Cristais Restantes:** Utilize os cristais restantes da pilha, um por um, e imprima cada cristal utilizado. Verifique se a pilha está vazia ao final."
      ],
      "metadata": {
        "id": "hc9rTb3SpLeB"
      }
    },
    {
      "cell_type": "code",
      "source": [
        "class Torre_de_cristais():\n",
        "\n",
        "  def __init__(self): #Inicializando a pilha\n",
        "    self.torre_de_cristais = []\n",
        "\n",
        "  def empilhar_cristal(self, cristal: str): #Função para adicionar o novo elemento no final da lista\n",
        "    self.torre_de_cristais.append(cristal)\n",
        "\n",
        "  def desempilhar_cristal(self): #Função para remover o elemento no topo da lista/ fim da lista\n",
        "\n",
        "    if self.torre_de_cristais: #Se tiver algo na pilha\n",
        "      print(f\"Removendo {self.torre_de_cristais[-1]}\\n\") #Dizendo que vai remover o ultimo\n",
        "      self.torre_de_cristais.pop() #Removendo o ultimo elemento e retornando porem não iremos guarda-lo\n",
        "\n",
        "    else: #Se não\n",
        "      print(\"Pilha vazia\\n\") #Não faz a logica e diz que esta vazia\n",
        "\n",
        "  def pilha_vazia(self): #Função para checar se a pilha esta vazia\n",
        "    if self.torre_de_cristais: #Se tiver algo na lista\n",
        "      print(\"Vazia = False\\n\") #Vazia = False\n",
        "    else: #Se não tiver\n",
        "      print(\"Vazia = True\\n\") #Vazia = True\n",
        "\n",
        "  def __str__(self) -> str: #Definindo exibição do objeto como str\n",
        "    if self.torre_de_cristais: #Se tiver algo na pilha\n",
        "      return f\"Torre de cristais: {self.torre_de_cristais}\\n\" #Diga assim\n",
        "    else: #Se não\n",
        "      return f\"Torre de cristais: Vazia\\n\" #Diga assim\n",
        "\n",
        "#Testando codigo\n",
        "\n",
        "torrecristais = Torre_de_cristais() #Criando o objeto\n",
        "\n",
        "#empilhando\n",
        "torrecristais.empilhar_cristal(\"Cristal do Passado\")\n",
        "torrecristais.empilhar_cristal(\"Cristal do Presente\")\n",
        "torrecristais.empilhar_cristal(\"Cristal do Futuro\")\n",
        "\n",
        "print(torrecristais) #Exibindo\n",
        "\n",
        "torrecristais.desempilhar_cristal() #Desempilhando\n",
        "\n",
        "torrecristais.pilha_vazia() #Checando se esta vazia\n",
        "\n",
        "print(torrecristais) #Exibindo apos o desempilhamento\n",
        "\n",
        "#Desempilhando o resto\n",
        "torrecristais.desempilhar_cristal()\n",
        "torrecristais.desempilhar_cristal()\n",
        "torrecristais.desempilhar_cristal()\n",
        "\n",
        "#Exibindo novamente apos remoção total\n",
        "print(torrecristais)"
      ],
      "metadata": {
        "colab": {
          "base_uri": "https://localhost:8080/"
        },
        "id": "s4JTZ0OxpNXR",
        "outputId": "ef4fefe4-460c-4b16-9cf5-677c6b59c98d"
      },
      "execution_count": null,
      "outputs": [
        {
          "output_type": "stream",
          "name": "stdout",
          "text": [
            "Torre de cristais: ['Cristal do Passado', 'Cristal do Presente', 'Cristal do Futuro']\n",
            "\n",
            "Removendo Cristal do Futuro\n",
            "\n",
            "Vazia = False\n",
            "\n",
            "Torre de cristais: ['Cristal do Passado', 'Cristal do Presente']\n",
            "\n",
            "Removendo Cristal do Presente\n",
            "\n",
            "Removendo Cristal do Passado\n",
            "\n",
            "Pilha vazia\n",
            "\n",
            "Torre de cristais: Vazia\n",
            "\n"
          ]
        }
      ]
    }
  ]
}